{
 "cells": [
  {
   "cell_type": "markdown",
   "metadata": {},
   "source": [
    "# NeuroLattice Demo\n",
    "\n",
    "This Jupyter notebook provides a live demonstration of the NeuroLattice functionality, showcasing the process of building a lattice, applying perturbations, measuring outcomes, and visualizing results."
   ]
  },
  {
   "cell_type": "code",
   "execution_count": null,
   "metadata": {},
   "outputs": [],
   "source": [
    "# Ensure package is on path\n",
    "import sys\n",
    "sys.path.append('/content/NeuroLattice')\n",
    "\n",
    "from neuro_lattice.lattice_builder import LatticeBuilder"
   ]
  },
  {
   "cell_type": "code",
   "execution_count": null,
   "metadata": {},
   "outputs": [],
   "source": [
    "# --- SETUP ---\n",
    "!pip install networkx matplotlib pandas scipy\n",
    "\n",
    "import matplotlib.pyplot as plt\n",
    "import networkx as nx\n",
    "import numpy as np\n",
    "import pandas as pd\n",
    "from neuro_lattice.lattice_builder import LatticeBuilder\n",
    "\n",
    "# --- 1. Build the lattice ---\n",
    "builder = LatticeBuilder(lattice_type='tetrahedral')\n",
    "G = builder.build_lattice()\n",
    "\n",
    "plt.figure(figsize=(6,6))\n",
    "pos = nx.spring_layout(G, seed=42)\n",
    "nx.draw(G, pos, with_labels=True, node_color='lightblue', node_size=1200, font_size=12)\n",
    "plt.title(\"NeuroLattice – Tetrahedral Topology\")\n",
    "plt.show()\n",
    "\n",
    "# --- 2. Simulate routing ---\n",
    "np.random.seed(42)\n",
    "log = []\n",
    "current = 'EC'\n",
    "for step in range(50):\n",
    "    neighbors = list(G.neighbors(current))\n",
    "    next_node = np.random.choice(neighbors)\n",
    "    log.append({'step': step, 'from': current, 'to': next_node})\n",
    "    current = next_node\n",
    "\n",
    "df = pd.DataFrame(log)\n",
    "print(df.head(10))\n",
    "\n",
    "# --- 3. Perturb lattice (simulate failure) ---\n",
    "failed_node = 2\n",
    "if failed_node in G:\n",
    "    G.remove_node(failed_node)\n",
    "print(f\"\\nNode {failed_node} removed for perturbation.\")\n",
    "plt.figure(figsize=(6,6))\n",
    "nx.draw(G, pos, with_labels=True, node_color='salmon', node_size=1200, font_size=12)\n",
    "plt.title(\"NeuroLattice – After Perturbation\")\n",
    "plt.show()\n",
    "\n",
    "# --- 4. Measure routing coherence ---\n",
    "visit_counts = df['to'].value_counts()\n",
    "plt.figure(figsize=(6,4))\n",
    "visit_counts.plot(kind='bar', color='purple')\n",
    "plt.title(\"Visit Frequency per Node\")\n",
    "plt.ylabel(\"Visits\")\n",
    "plt.xlabel(\"Node\")\n",
    "plt.show()\n",
    "\n",
    "# --- 5. Recovery metric (simple) ---\n",
    "coherence = 1 - (visit_counts.std() / visit_counts.mean())\n",
    "print(f\"Coherence Score: {coherence:.3f}\")\n"
   ]
  }
 ],
 "metadata": {
  "kernelspec": {
   "display_name": "Python 3",
   "language": "python",
   "name": "python3"
  },
  "language_info": {
   "codemirror_mode": {
    "name": "ipython",
    "version": 3
   },
   "file_extension": ".py",
   "mimetype": "text/x-python",
   "name": "python",
   "nbconvert_exporter": "python",
   "pygments_lexer": "ipython3",
   "version": "3.8.5"
  }
 },
 "nbformat": 4,
 "nbformat_minor": 4
}

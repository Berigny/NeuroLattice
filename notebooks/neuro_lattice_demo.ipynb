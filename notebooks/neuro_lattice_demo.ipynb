{
 "cells": [
  {
   "cell_type": "markdown",
   "metadata": {},
   "source": [
    "# NeuroLattice Demo\n",
    "\n",
    "This Jupyter notebook provides a live demonstration of the NeuroLattice functionality, showcasing the process of building a lattice, applying perturbations, measuring outcomes, and visualizing results."
   ]
  },
  {
   "cell_type": "code",
   "execution_count": null,
   "metadata": {},
   "outputs": [],
   "source": [
    "# --- One-click setup for Colab ---\n",
    "!git clone https://github.com/Berigny/NeuroLattice.git\n",
    "%cd NeuroLattice\n",
    "\n",
    "# Install as a normal package (non-editable)\n",
    "!pip install .\n"
   ]
  }
 ],
 "metadata": {
  "kernelspec": {
   "display_name": "Python 3",
   "language": "python",
   "name": "python3"
  },
  "language_info": {
   "codemirror_mode": {
    "name": "ipython",
    "version": 3
   },
   "file_extension": ".py",
   "mimetype": "text/x-python",
   "name": "python",
   "nbconvert_exporter": "python",
   "pygments_lexer": "ipython3",
   "version": "3.8.5"
  }
 },
 "nbformat": 4,
 "nbformat_minor": 4
}

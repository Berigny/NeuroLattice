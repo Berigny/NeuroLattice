{
 "cells": [
  {
   "cell_type": "markdown",
   "metadata": {},
   "source": [
    "# NeuroLattice Demo\n",
    "\n",
    "This Jupyter notebook provides a live demonstration of the NeuroLattice functionality, showcasing the process of building a lattice, applying perturbations, measuring outcomes, and visualizing results."
   ]
  },
  {
   "cell_type": "code",
   "execution_count": null,
   "metadata": {},
   "outputs": [],
   "source": [
    "# --- One-click setup for Colab ---\n",
    "!git clone https://github.com/Berigny/NeuroLattice.git\n",
    "%cd NeuroLattice\n",
    "\n",
    "# Install as a normal package (non-editable)\n",
    "!pip install .\n"
   ]
  },
  {
   "cell_type": "code",
   "execution_count": null,
   "metadata": {},
   "outputs": [],
   "source": [
    "from neuro_lattice.cognitive_network import CognitiveNetwork\n",
    "from neuro_lattice.visualization import plot_lattice\n",
    "\n",
    "# Build and visualise cognitive lattice\n",
    "net = CognitiveNetwork().get_network()\n",
    "plot_lattice(net)\n"
   ]
  },
  {
   "cell_type": "code",
   "execution_count": null,
   "metadata": {},
   "outputs": [],
   "source": [
    "from neuro_lattice.routing_engine import RoutingEngine\n",
    "from neuro_lattice.perturbations import PerturbationInjector\n",
    "from neuro_lattice.metrics import MetricsCalculator\n",
    "from pprint import pprint\n",
    "\n",
    "# Create demo packet and run routing\n",
    "packets = [{\n",
    "    'id': 0,\n",
    "    'data': 'demo',\n",
    "    'location': 'EC',\n",
    "    'prev': None,\n",
    "    'priority': 1.0,\n",
    "    'confidence': 0.4,\n",
    "}]\n",
    "\n",
    "engine = RoutingEngine(net)\n",
    "engine.run(packets, max_steps=10)\n",
    "\n",
    "# Inject perturbation and compute metrics\n",
    "PerturbationInjector().inject_perturbation(net, perturbation_type='random-noise')\n",
    "metrics = MetricsCalculator.calculate_metrics(net)\n",
    "\n",
    "pprint(engine.transition_log[:5])\n",
    "metrics\n"
   ]
  }
 ],
 "metadata": {
  "kernelspec": {
   "display_name": "Python 3",
   "language": "python",
   "name": "python3"
  },
  "language_info": {
   "codemirror_mode": {
    "name": "ipython",
    "version": 3
   },
   "file_extension": ".py",
   "mimetype": "text/x-python",
   "name": "python",
   "nbconvert_exporter": "python",
   "pygments_lexer": "ipython3",
   "version": "3.8.5"
  }
 },
 "nbformat": 4,
 "nbformat_minor": 4
}
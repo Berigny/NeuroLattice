{
 "cells": [
  {
   "cell_type": "markdown",
   "metadata": {},
   "source": [
    "# NeuroLattice Demo\n",
    "\n",
    "This Jupyter notebook provides a live demonstration of the NeuroLattice functionality, showcasing the process of building a lattice, applying perturbations, measuring outcomes, and visualizing results."
   ]
  },
  {
   "cell_type": "code",
   "execution_count": null,
   "metadata": {},
   "outputs": [],
   "source": [
    "# --- One-click setup for Colab ---\n",
    "!git clone https://github.com/Berigny/NeuroLattice.git\n",
    "%cd NeuroLattice\n",
    "\n",
    "# Install as a normal package (non-editable)\n",
    "!pip install .\n"
   ]
  },
  {
   "cell_type": "code",
   "execution_count": null,
   "metadata": {},
   "outputs": [],
   "source": [
    "from neuro_lattice.simulation import Simulation\n",
    "from neuro_lattice.utils import generate_noisy_shapes\n",
    "import matplotlib.pyplot as plt\n",
    "import cv2\n",
    "import pandas as pd\n",
    "\n",
    "test_image = generate_noisy_shapes(noise_level=40)\n",
    "plt.imshow(cv2.cvtColor(test_image, cv2.COLOR_BGR2RGB))\n",
    "plt.title(\"Input Image\")\n",
    "plt.axis('off')\n",
    "plt.show()\n",
    "\n",
    "sim = Simulation()\n",
    "sim.initialize(test_image)\n",
    "for _ in range(100):\n",
    "    sim.run_step()\n",
    "print(f\"Initial Detection: {sim.packets[0]['data']}\")\n",
    "print(f\"Final Coherence: {sim.calculate_coherence():.3f}\")\n",
    "sim.visualize()\n",
    "pd.DataFrame(sim.controller.transition_log)\n"
   ]
  }
 ],
 "metadata": {
  "kernelspec": {
   "display_name": "Python 3",
   "language": "python",
   "name": "python3"
  },
  "language_info": {
   "codemirror_mode": {
    "name": "ipython",
    "version": 3
   },
   "file_extension": ".py",
   "mimetype": "text/x-python",
   "name": "python",
   "nbconvert_exporter": "python",
   "pygments_lexer": "ipython3",
   "version": "3.8.5"
  }
 },
 "nbformat": 4,
 "nbformat_minor": 4
}

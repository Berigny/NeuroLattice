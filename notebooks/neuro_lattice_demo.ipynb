{
  "cells": [
    {
      "cell_type": "markdown",
      "metadata": {
        "colab_type": "text",
        "id": "view-in-github"
      },
      "source": [
        "<a href=\"https://colab.research.google.com/github/Berigny/NeuroLattice/blob/main/notebooks/neuro_lattice_demo.ipynb\" target=\"_parent\"><img src=\"https://colab.research.google.com/assets/colab-badge.svg\" alt=\"Open In Colab\"/></a>"
      ]
    },
    {
      "cell_type": "code",
      "execution_count": 9,
      "metadata": {},
      "outputs": [
        {
          "name": "stdout",
          "output_type": "stream",
          "text": [
            "Cloning into 'NeuroLattice'...\n",
            "remote: Enumerating objects: 276, done.\u001b[K\n",
            "remote: Counting objects: 100% (75/75), done.\u001b[K\n",
            "remote: Compressing objects: 100% (61/61), done.\u001b[K\n",
            "remote: Total 276 (delta 25), reused 49 (delta 13), pack-reused 201 (from 1)\u001b[K\n",
            "Receiving objects: 100% (276/276), 155.43 KiB | 4.20 MiB/s, done.\n",
            "Resolving deltas: 100% (137/137), done.\n",
            "/Users/davidberigny/Documents/GitHub/NeuroLattice/notebooks/NeuroLattice/NeuroLattice/NeuroLattice/NeuroLattice/NeuroLattice\n",
            "Processing /Users/davidberigny/Documents/GitHub/NeuroLattice/notebooks/NeuroLattice/NeuroLattice/NeuroLattice/NeuroLattice/NeuroLattice\n",
            "  Installing build dependencies ... \u001b[?25ldone\n",
            "\u001b[?25h  Getting requirements to build wheel ... \u001b[?25ldone\n",
            "\u001b[?25h  Preparing metadata (pyproject.toml) ... \u001b[?25ldone\n",
            "\u001b[?25hRequirement already satisfied: networkx in /Users/davidberigny/.pyenv/versions/3.11.7/lib/python3.11/site-packages (from neuro_lattice==0.1.1) (3.5)\n",
            "Requirement already satisfied: matplotlib in /Users/davidberigny/.pyenv/versions/3.11.7/lib/python3.11/site-packages (from neuro_lattice==0.1.1) (3.10.5)\n",
            "Requirement already satisfied: pandas in /Users/davidberigny/.pyenv/versions/3.11.7/lib/python3.11/site-packages (from neuro_lattice==0.1.1) (2.3.1)\n",
            "Requirement already satisfied: opencv-python in /Users/davidberigny/.pyenv/versions/3.11.7/lib/python3.11/site-packages (from neuro_lattice==0.1.1) (4.12.0.88)\n",
            "Requirement already satisfied: numpy in /Users/davidberigny/.pyenv/versions/3.11.7/lib/python3.11/site-packages (from neuro_lattice==0.1.1) (2.2.6)\n",
            "Requirement already satisfied: scikit-image in /Users/davidberigny/.pyenv/versions/3.11.7/lib/python3.11/site-packages (from neuro_lattice==0.1.1) (0.25.2)\n",
            "Requirement already satisfied: scikit-learn in /Users/davidberigny/.pyenv/versions/3.11.7/lib/python3.11/site-packages (from neuro_lattice==0.1.1) (1.7.1)\n",
            "Requirement already satisfied: contourpy>=1.0.1 in /Users/davidberigny/.pyenv/versions/3.11.7/lib/python3.11/site-packages (from matplotlib->neuro_lattice==0.1.1) (1.3.3)\n",
            "Requirement already satisfied: cycler>=0.10 in /Users/davidberigny/.pyenv/versions/3.11.7/lib/python3.11/site-packages (from matplotlib->neuro_lattice==0.1.1) (0.12.1)\n",
            "Requirement already satisfied: fonttools>=4.22.0 in /Users/davidberigny/.pyenv/versions/3.11.7/lib/python3.11/site-packages (from matplotlib->neuro_lattice==0.1.1) (4.59.0)\n",
            "Requirement already satisfied: kiwisolver>=1.3.1 in /Users/davidberigny/.pyenv/versions/3.11.7/lib/python3.11/site-packages (from matplotlib->neuro_lattice==0.1.1) (1.4.8)\n",
            "Requirement already satisfied: packaging>=20.0 in /Users/davidberigny/.pyenv/versions/3.11.7/lib/python3.11/site-packages (from matplotlib->neuro_lattice==0.1.1) (25.0)\n",
            "Requirement already satisfied: pillow>=8 in /Users/davidberigny/.pyenv/versions/3.11.7/lib/python3.11/site-packages (from matplotlib->neuro_lattice==0.1.1) (11.3.0)\n",
            "Requirement already satisfied: pyparsing>=2.3.1 in /Users/davidberigny/.pyenv/versions/3.11.7/lib/python3.11/site-packages (from matplotlib->neuro_lattice==0.1.1) (3.2.3)\n",
            "Requirement already satisfied: python-dateutil>=2.7 in /Users/davidberigny/.pyenv/versions/3.11.7/lib/python3.11/site-packages (from matplotlib->neuro_lattice==0.1.1) (2.9.0.post0)\n",
            "Requirement already satisfied: six>=1.5 in /Users/davidberigny/.pyenv/versions/3.11.7/lib/python3.11/site-packages (from python-dateutil>=2.7->matplotlib->neuro_lattice==0.1.1) (1.17.0)\n",
            "Requirement already satisfied: pytz>=2020.1 in /Users/davidberigny/.pyenv/versions/3.11.7/lib/python3.11/site-packages (from pandas->neuro_lattice==0.1.1) (2025.2)\n",
            "Requirement already satisfied: tzdata>=2022.7 in /Users/davidberigny/.pyenv/versions/3.11.7/lib/python3.11/site-packages (from pandas->neuro_lattice==0.1.1) (2025.2)\n",
            "Requirement already satisfied: scipy>=1.11.4 in /Users/davidberigny/.pyenv/versions/3.11.7/lib/python3.11/site-packages (from scikit-image->neuro_lattice==0.1.1) (1.16.1)\n",
            "Requirement already satisfied: imageio!=2.35.0,>=2.33 in /Users/davidberigny/.pyenv/versions/3.11.7/lib/python3.11/site-packages (from scikit-image->neuro_lattice==0.1.1) (2.37.0)\n",
            "Requirement already satisfied: tifffile>=2022.8.12 in /Users/davidberigny/.pyenv/versions/3.11.7/lib/python3.11/site-packages (from scikit-image->neuro_lattice==0.1.1) (2025.6.11)\n",
            "Requirement already satisfied: lazy-loader>=0.4 in /Users/davidberigny/.pyenv/versions/3.11.7/lib/python3.11/site-packages (from scikit-image->neuro_lattice==0.1.1) (0.4)\n",
            "Requirement already satisfied: joblib>=1.2.0 in /Users/davidberigny/.pyenv/versions/3.11.7/lib/python3.11/site-packages (from scikit-learn->neuro_lattice==0.1.1) (1.5.1)\n",
            "Requirement already satisfied: threadpoolctl>=3.1.0 in /Users/davidberigny/.pyenv/versions/3.11.7/lib/python3.11/site-packages (from scikit-learn->neuro_lattice==0.1.1) (3.6.0)\n",
            "Building wheels for collected packages: neuro_lattice\n",
            "  Building wheel for neuro_lattice (pyproject.toml) ... \u001b[?25ldone\n",
            "\u001b[?25h  Created wheel for neuro_lattice: filename=neuro_lattice-0.1.1-py3-none-any.whl size=19306 sha256=152325cf078a05d47246b327eb3ab606fa65549d44111fbb8e6ab6ebbb56a3d2\n",
            "  Stored in directory: /private/var/folders/qb/mlk7sgb154z_z8fzk3gwdmzr0000gn/T/pip-ephem-wheel-cache-1plvu9dz/wheels/69/f9/06/d97b550a777b2f56e742ad6a3f8f52ac1f296befa8524f7b80\n",
            "Successfully built neuro_lattice\n",
            "Installing collected packages: neuro_lattice\n",
            "  Attempting uninstall: neuro_lattice\n",
            "    Found existing installation: neuro_lattice 0.1.1\n",
            "    Uninstalling neuro_lattice-0.1.1:\n",
            "      Successfully uninstalled neuro_lattice-0.1.1\n",
            "Successfully installed neuro_lattice-0.1.1\n",
            "Note: you may need to restart the kernel to use updated packages.\n"
          ]
        }
      ],
      "source": [
        "# --- One-click setup for Colab ---\n",
        "!git clone https://github.com/Berigny/NeuroLattice.git\n",
        "%cd NeuroLattice\n",
        "\n",
        "# Install as a normal package (non-editable)\n",
        "%pip install ."
      ]
    },
    {
      "cell_type": "markdown",
      "metadata": {
        "id": "lOhEFupsPdJy"
      },
      "source": [
        "# NeuroLattice Demo\n",
        "\n",
        "This Jupyter notebook provides a live demonstration of the NeuroLattice functionality, showcasing the process of building a lattice, applying perturbations, measuring outcomes, and visualizing results."
      ]
    },
    {
      "cell_type": "code",
      "execution_count": 10,
      "metadata": {
        "colab": {
          "base_uri": "https://localhost:8080/",
          "height": 867
        },
        "id": "HbHj7HC0PdJ1"
      },
      "outputs": [
        {
          "name": "stdout",
          "output_type": "stream",
          "text": [
            "Cloning into 'NeuroLattice'...\n",
            "remote: Enumerating objects: 276, done.\u001b[K\n",
            "remote: Counting objects: 100% (75/75), done.\u001b[K\n",
            "remote: Compressing objects: 100% (61/61), done.\u001b[K\n",
            "remote: Total 276 (delta 25), reused 49 (delta 13), pack-reused 201 (from 1)\u001b[K\n",
            "Receiving objects: 100% (276/276), 155.43 KiB | 4.44 MiB/s, done.\n",
            "Resolving deltas: 100% (137/137), done.\n",
            "/Users/davidberigny/Documents/GitHub/NeuroLattice/notebooks/NeuroLattice/NeuroLattice/NeuroLattice/NeuroLattice/NeuroLattice/NeuroLattice\n",
            "Processing /Users/davidberigny/Documents/GitHub/NeuroLattice/notebooks/NeuroLattice/NeuroLattice/NeuroLattice/NeuroLattice/NeuroLattice/NeuroLattice\n",
            "  Installing build dependencies ... \u001b[?25ldone\n",
            "\u001b[?25h  Getting requirements to build wheel ... \u001b[?25ldone\n",
            "\u001b[?25h  Preparing metadata (pyproject.toml) ... \u001b[?25ldone\n",
            "\u001b[?25hRequirement already satisfied: networkx in /Users/davidberigny/.pyenv/versions/3.11.7/lib/python3.11/site-packages (from neuro_lattice==0.1.1) (3.5)\n",
            "Requirement already satisfied: matplotlib in /Users/davidberigny/.pyenv/versions/3.11.7/lib/python3.11/site-packages (from neuro_lattice==0.1.1) (3.10.5)\n",
            "Requirement already satisfied: pandas in /Users/davidberigny/.pyenv/versions/3.11.7/lib/python3.11/site-packages (from neuro_lattice==0.1.1) (2.3.1)\n",
            "Requirement already satisfied: opencv-python in /Users/davidberigny/.pyenv/versions/3.11.7/lib/python3.11/site-packages (from neuro_lattice==0.1.1) (4.12.0.88)\n",
            "Requirement already satisfied: numpy in /Users/davidberigny/.pyenv/versions/3.11.7/lib/python3.11/site-packages (from neuro_lattice==0.1.1) (2.2.6)\n",
            "Requirement already satisfied: scikit-image in /Users/davidberigny/.pyenv/versions/3.11.7/lib/python3.11/site-packages (from neuro_lattice==0.1.1) (0.25.2)\n",
            "Requirement already satisfied: scikit-learn in /Users/davidberigny/.pyenv/versions/3.11.7/lib/python3.11/site-packages (from neuro_lattice==0.1.1) (1.7.1)\n",
            "Requirement already satisfied: contourpy>=1.0.1 in /Users/davidberigny/.pyenv/versions/3.11.7/lib/python3.11/site-packages (from matplotlib->neuro_lattice==0.1.1) (1.3.3)\n",
            "Requirement already satisfied: cycler>=0.10 in /Users/davidberigny/.pyenv/versions/3.11.7/lib/python3.11/site-packages (from matplotlib->neuro_lattice==0.1.1) (0.12.1)\n",
            "Requirement already satisfied: fonttools>=4.22.0 in /Users/davidberigny/.pyenv/versions/3.11.7/lib/python3.11/site-packages (from matplotlib->neuro_lattice==0.1.1) (4.59.0)\n",
            "Requirement already satisfied: kiwisolver>=1.3.1 in /Users/davidberigny/.pyenv/versions/3.11.7/lib/python3.11/site-packages (from matplotlib->neuro_lattice==0.1.1) (1.4.8)\n",
            "Requirement already satisfied: packaging>=20.0 in /Users/davidberigny/.pyenv/versions/3.11.7/lib/python3.11/site-packages (from matplotlib->neuro_lattice==0.1.1) (25.0)\n",
            "Requirement already satisfied: pillow>=8 in /Users/davidberigny/.pyenv/versions/3.11.7/lib/python3.11/site-packages (from matplotlib->neuro_lattice==0.1.1) (11.3.0)\n",
            "Requirement already satisfied: pyparsing>=2.3.1 in /Users/davidberigny/.pyenv/versions/3.11.7/lib/python3.11/site-packages (from matplotlib->neuro_lattice==0.1.1) (3.2.3)\n",
            "Requirement already satisfied: python-dateutil>=2.7 in /Users/davidberigny/.pyenv/versions/3.11.7/lib/python3.11/site-packages (from matplotlib->neuro_lattice==0.1.1) (2.9.0.post0)\n",
            "Requirement already satisfied: six>=1.5 in /Users/davidberigny/.pyenv/versions/3.11.7/lib/python3.11/site-packages (from python-dateutil>=2.7->matplotlib->neuro_lattice==0.1.1) (1.17.0)\n",
            "Requirement already satisfied: pytz>=2020.1 in /Users/davidberigny/.pyenv/versions/3.11.7/lib/python3.11/site-packages (from pandas->neuro_lattice==0.1.1) (2025.2)\n",
            "Requirement already satisfied: tzdata>=2022.7 in /Users/davidberigny/.pyenv/versions/3.11.7/lib/python3.11/site-packages (from pandas->neuro_lattice==0.1.1) (2025.2)\n",
            "Requirement already satisfied: scipy>=1.11.4 in /Users/davidberigny/.pyenv/versions/3.11.7/lib/python3.11/site-packages (from scikit-image->neuro_lattice==0.1.1) (1.16.1)\n",
            "Requirement already satisfied: imageio!=2.35.0,>=2.33 in /Users/davidberigny/.pyenv/versions/3.11.7/lib/python3.11/site-packages (from scikit-image->neuro_lattice==0.1.1) (2.37.0)\n",
            "Requirement already satisfied: tifffile>=2022.8.12 in /Users/davidberigny/.pyenv/versions/3.11.7/lib/python3.11/site-packages (from scikit-image->neuro_lattice==0.1.1) (2025.6.11)\n",
            "Requirement already satisfied: lazy-loader>=0.4 in /Users/davidberigny/.pyenv/versions/3.11.7/lib/python3.11/site-packages (from scikit-image->neuro_lattice==0.1.1) (0.4)\n",
            "Requirement already satisfied: joblib>=1.2.0 in /Users/davidberigny/.pyenv/versions/3.11.7/lib/python3.11/site-packages (from scikit-learn->neuro_lattice==0.1.1) (1.5.1)\n",
            "Requirement already satisfied: threadpoolctl>=3.1.0 in /Users/davidberigny/.pyenv/versions/3.11.7/lib/python3.11/site-packages (from scikit-learn->neuro_lattice==0.1.1) (3.6.0)\n",
            "Building wheels for collected packages: neuro_lattice\n",
            "  Building wheel for neuro_lattice (pyproject.toml) ... \u001b[?25ldone\n",
            "\u001b[?25h  Created wheel for neuro_lattice: filename=neuro_lattice-0.1.1-py3-none-any.whl size=19306 sha256=ba19c8da40930afaa37ca8ce9918f40bf5c592c5e81816eb445c67ea2e63678b\n",
            "  Stored in directory: /private/var/folders/qb/mlk7sgb154z_z8fzk3gwdmzr0000gn/T/pip-ephem-wheel-cache-j8rwp9vd/wheels/10/43/f7/b97206cbd980a3f9fb68e93b2873a6617c8e2a83628209e1e2\n",
            "Successfully built neuro_lattice\n",
            "Installing collected packages: neuro_lattice\n",
            "  Attempting uninstall: neuro_lattice\n",
            "    Found existing installation: neuro_lattice 0.1.1\n",
            "    Uninstalling neuro_lattice-0.1.1:\n",
            "      Successfully uninstalled neuro_lattice-0.1.1\n",
            "Successfully installed neuro_lattice-0.1.1\n",
            "Note: you may need to restart the kernel to use updated packages.\n"
          ]
        }
      ],
      "source": [
        "# --- One-click setup for Colab ---\n",
        "!git clone https://github.com/Berigny/NeuroLattice.git\n",
        "%cd NeuroLattice\n",
        "\n",
        "# Install as a normal package (non-editable)\n",
        "%pip install .\n"
      ]
    },
    {
      "cell_type": "code",
      "execution_count": 7,
      "metadata": {
        "colab": {
          "base_uri": "https://localhost:8080/",
          "height": 928
        },
        "id": "Ty4_kZVbPdJ2",
        "outputId": "0c7f8f83-d364-4706-e41b-3b3b42da9829"
      },
      "outputs": [
        {
          "name": "stdout",
          "output_type": "stream",
          "text": [
            "Requirement already satisfied: neuro_lattice in /Users/davidberigny/.pyenv/versions/3.11.7/lib/python3.11/site-packages (0.1.1)\n",
            "Requirement already satisfied: networkx in /Users/davidberigny/.pyenv/versions/3.11.7/lib/python3.11/site-packages (from neuro_lattice) (3.5)\n",
            "Requirement already satisfied: matplotlib in /Users/davidberigny/.pyenv/versions/3.11.7/lib/python3.11/site-packages (from neuro_lattice) (3.10.5)\n",
            "Requirement already satisfied: pandas in /Users/davidberigny/.pyenv/versions/3.11.7/lib/python3.11/site-packages (from neuro_lattice) (2.3.1)\n",
            "Requirement already satisfied: opencv-python in /Users/davidberigny/.pyenv/versions/3.11.7/lib/python3.11/site-packages (from neuro_lattice) (4.12.0.88)\n",
            "Requirement already satisfied: numpy in /Users/davidberigny/.pyenv/versions/3.11.7/lib/python3.11/site-packages (from neuro_lattice) (2.2.6)\n",
            "Requirement already satisfied: scikit-image in /Users/davidberigny/.pyenv/versions/3.11.7/lib/python3.11/site-packages (from neuro_lattice) (0.25.2)\n",
            "Requirement already satisfied: scikit-learn in /Users/davidberigny/.pyenv/versions/3.11.7/lib/python3.11/site-packages (from neuro_lattice) (1.7.1)\n",
            "Requirement already satisfied: contourpy>=1.0.1 in /Users/davidberigny/.pyenv/versions/3.11.7/lib/python3.11/site-packages (from matplotlib->neuro_lattice) (1.3.3)\n",
            "Requirement already satisfied: cycler>=0.10 in /Users/davidberigny/.pyenv/versions/3.11.7/lib/python3.11/site-packages (from matplotlib->neuro_lattice) (0.12.1)\n",
            "Requirement already satisfied: fonttools>=4.22.0 in /Users/davidberigny/.pyenv/versions/3.11.7/lib/python3.11/site-packages (from matplotlib->neuro_lattice) (4.59.0)\n",
            "Requirement already satisfied: kiwisolver>=1.3.1 in /Users/davidberigny/.pyenv/versions/3.11.7/lib/python3.11/site-packages (from matplotlib->neuro_lattice) (1.4.8)\n",
            "Requirement already satisfied: packaging>=20.0 in /Users/davidberigny/.pyenv/versions/3.11.7/lib/python3.11/site-packages (from matplotlib->neuro_lattice) (25.0)\n",
            "Requirement already satisfied: pillow>=8 in /Users/davidberigny/.pyenv/versions/3.11.7/lib/python3.11/site-packages (from matplotlib->neuro_lattice) (11.3.0)\n",
            "Requirement already satisfied: pyparsing>=2.3.1 in /Users/davidberigny/.pyenv/versions/3.11.7/lib/python3.11/site-packages (from matplotlib->neuro_lattice) (3.2.3)\n",
            "Requirement already satisfied: python-dateutil>=2.7 in /Users/davidberigny/.pyenv/versions/3.11.7/lib/python3.11/site-packages (from matplotlib->neuro_lattice) (2.9.0.post0)\n",
            "Requirement already satisfied: six>=1.5 in /Users/davidberigny/.pyenv/versions/3.11.7/lib/python3.11/site-packages (from python-dateutil>=2.7->matplotlib->neuro_lattice) (1.17.0)\n",
            "Requirement already satisfied: pytz>=2020.1 in /Users/davidberigny/.pyenv/versions/3.11.7/lib/python3.11/site-packages (from pandas->neuro_lattice) (2025.2)\n",
            "Requirement already satisfied: tzdata>=2022.7 in /Users/davidberigny/.pyenv/versions/3.11.7/lib/python3.11/site-packages (from pandas->neuro_lattice) (2025.2)\n",
            "Requirement already satisfied: scipy>=1.11.4 in /Users/davidberigny/.pyenv/versions/3.11.7/lib/python3.11/site-packages (from scikit-image->neuro_lattice) (1.16.1)\n",
            "Requirement already satisfied: imageio!=2.35.0,>=2.33 in /Users/davidberigny/.pyenv/versions/3.11.7/lib/python3.11/site-packages (from scikit-image->neuro_lattice) (2.37.0)\n",
            "Requirement already satisfied: tifffile>=2022.8.12 in /Users/davidberigny/.pyenv/versions/3.11.7/lib/python3.11/site-packages (from scikit-image->neuro_lattice) (2025.6.11)\n",
            "Requirement already satisfied: lazy-loader>=0.4 in /Users/davidberigny/.pyenv/versions/3.11.7/lib/python3.11/site-packages (from scikit-image->neuro_lattice) (0.4)\n",
            "Requirement already satisfied: joblib>=1.2.0 in /Users/davidberigny/.pyenv/versions/3.11.7/lib/python3.11/site-packages (from scikit-learn->neuro_lattice) (1.5.1)\n",
            "Requirement already satisfied: threadpoolctl>=3.1.0 in /Users/davidberigny/.pyenv/versions/3.11.7/lib/python3.11/site-packages (from scikit-learn->neuro_lattice) (3.6.0)\n",
            "Note: you may need to restart the kernel to use updated packages.\n",
            "DiGraph with 10 nodes and 23 edges\n"
          ]
        }
      ],
      "source": [
        "%pip install neuro_lattice\n",
        "\n",
        "from neuro_lattice.lattice_builder import LatticeBuilder\n",
        "# Build lattice\n",
        "net = LatticeBuilder().build_lattice()\n",
        "\n",
        "# If you want to visualize, check if LatticeBuilder or net has a visualization method, e.g.:\n",
        "# net.visualize()  # Uncomment if such a method exists\n",
        "\n",
        "# For now, just print the net object\n",
        "print(net)"
      ]
    },
    {
      "cell_type": "code",
      "execution_count": 8,
      "metadata": {
        "id": "3ubukORFPdJ2"
      },
      "outputs": [
        {
          "name": "stdout",
          "output_type": "stream",
          "text": [
            "[]\n"
          ]
        },
        {
          "data": {
            "text/plain": [
              "{'strain': np.float64(8.676925805941458),\n",
              " 'coherence': np.float64(4.1941822196690275),\n",
              " 'drift': np.float64(8.676925805941458)}"
            ]
          },
          "execution_count": 8,
          "metadata": {},
          "output_type": "execute_result"
        }
      ],
      "source": [
        "from neuro_lattice.routing_engine import RoutingEngine\n",
        "from neuro_lattice.perturbations import PerturbationInjector\n",
        "from neuro_lattice.metrics import MetricsCalculator\n",
        "from pprint import pprint\n",
        "\n",
        "# Create demo packet and run routing\n",
        "packets = [{\n",
        "    'id': 0,\n",
        "    'data': 'demo',\n",
        "    'location': 'EC',\n",
        "    'prev': None,\n",
        "    'priority': 1.0,\n",
        "    'confidence': 0.4,\n",
        "}]\n",
        "\n",
        "engine = RoutingEngine(net)\n",
        "# ...existing code...\n",
        "\n",
        "class RoutingEngine:\n",
        "    # ...existing methods...\n",
        "\n",
        "    def route_packets(self, packets, max_steps=10):\n",
        "        \"\"\"\n",
        "        Routes packets through the network for a given number of steps.\n",
        "        Args:\n",
        "            packets: list of packet objects or data\n",
        "            max_steps: int, maximum routing steps\n",
        "        Returns:\n",
        "            results or final packet states\n",
        "        \"\"\"\n",
        "        for step in range(max_steps):\n",
        "            # Implement routing logic here\n",
        "            pass\n",
        "        # Return results or update packets\n",
        "        return packets\n",
        "\n",
        "# ...existing code...\n",
        "\n",
        "# Inject perturbation and compute metrics\n",
        "PerturbationInjector().inject_perturbation(net, perturbation_type='random-noise')\n",
        "metrics = MetricsCalculator.calculate_metrics(net)\n",
        "\n",
        "pprint(engine.transition_log[:5])\n",
        "metrics\n"
      ]
    }
  ],
  "metadata": {
    "colab": {
      "include_colab_link": true,
      "provenance": []
    },
    "kernelspec": {
      "display_name": "3.11.7",
      "language": "python",
      "name": "python3"
    },
    "language_info": {
      "codemirror_mode": {
        "name": "ipython",
        "version": 3
      },
      "file_extension": ".py",
      "mimetype": "text/x-python",
      "name": "python",
      "nbconvert_exporter": "python",
      "pygments_lexer": "ipython3",
      "version": "3.11.7"
    }
  },
  "nbformat": 4,
  "nbformat_minor": 0
}
